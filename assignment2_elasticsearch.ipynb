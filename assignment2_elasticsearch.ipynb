{
 "cells": [
  {
   "cell_type": "markdown",
   "id": "81b23ae4",
   "metadata": {},
   "source": [
    "### Read the configuration"
   ]
  },
  {
   "cell_type": "code",
   "execution_count": 10,
   "id": "ce5d1954",
   "metadata": {},
   "outputs": [
    {
     "data": {
      "text/plain": [
       "['example.ini']"
      ]
     },
     "execution_count": 10,
     "metadata": {},
     "output_type": "execute_result"
    }
   ],
   "source": [
    "from elasticsearch import Elasticsearch, helpers\n",
    "import configparser\n",
    "\n",
    "config = configparser.ConfigParser()\n",
    "config.read('example.ini')"
   ]
  },
  {
   "cell_type": "markdown",
   "id": "227f9c3f",
   "metadata": {},
   "source": [
    "### Instantiate the Elasticsearch Connection"
   ]
  },
  {
   "cell_type": "code",
   "execution_count": 11,
   "id": "1c3ded87",
   "metadata": {},
   "outputs": [
    {
     "name": "stderr",
     "output_type": "stream",
     "text": [
      "C:\\Users\\krish\\AppData\\Local\\Temp/ipykernel_22832/4245316990.py:1: DeprecationWarning: The 'http_auth' parameter is deprecated. Use 'basic_auth' or 'bearer_auth' parameters instead\n",
      "  es = Elasticsearch(\n"
     ]
    }
   ],
   "source": [
    "es = Elasticsearch(\n",
    "    cloud_id=config['ELASTIC']['cloud_id'],\n",
    "    http_auth=(config['ELASTIC']['username'], config['ELASTIC']['password'])\n",
    ")"
   ]
  },
  {
   "cell_type": "code",
   "execution_count": 12,
   "id": "05b58089",
   "metadata": {},
   "outputs": [
    {
     "data": {
      "text/plain": [
       "ObjectApiResponse({'name': 'instance-0000000001', 'cluster_name': '4f0d5e78d4674150a3d4a00acf8edf38', 'cluster_uuid': 'MtkvfqtcS0O91iJ_V12gDw', 'version': {'number': '8.4.3', 'build_flavor': 'default', 'build_type': 'docker', 'build_hash': '42f05b9372a9a4a470db3b52817899b99a76ee73', 'build_date': '2022-10-04T07:17:24.662462378Z', 'build_snapshot': False, 'lucene_version': '9.3.0', 'minimum_wire_compatibility_version': '7.17.0', 'minimum_index_compatibility_version': '7.0.0'}, 'tagline': 'You Know, for Search'})"
      ]
     },
     "execution_count": 12,
     "metadata": {},
     "output_type": "execute_result"
    }
   ],
   "source": [
    "es.info()"
   ]
  },
  {
   "cell_type": "code",
   "execution_count": 60,
   "id": "7455b410",
   "metadata": {},
   "outputs": [
    {
     "data": {
      "text/html": [
       "<div>\n",
       "<style scoped>\n",
       "    .dataframe tbody tr th:only-of-type {\n",
       "        vertical-align: middle;\n",
       "    }\n",
       "\n",
       "    .dataframe tbody tr th {\n",
       "        vertical-align: top;\n",
       "    }\n",
       "\n",
       "    .dataframe thead th {\n",
       "        text-align: right;\n",
       "    }\n",
       "</style>\n",
       "<table border=\"1\" class=\"dataframe\">\n",
       "  <thead>\n",
       "    <tr style=\"text-align: right;\">\n",
       "      <th></th>\n",
       "      <th>ref_img</th>\n",
       "      <th>sim_img_1</th>\n",
       "      <th>sim_img_2</th>\n",
       "      <th>sim_img_3</th>\n",
       "      <th>sim_img_4</th>\n",
       "      <th>sim_img_5</th>\n",
       "      <th>sim_img_6</th>\n",
       "      <th>sim_img_7</th>\n",
       "      <th>sim_img_8</th>\n",
       "      <th>sim_img_9</th>\n",
       "      <th>sim_img_10</th>\n",
       "    </tr>\n",
       "  </thead>\n",
       "  <tbody>\n",
       "    <tr>\n",
       "      <th>0</th>\n",
       "      <td>patterned_blouse_0.jpg</td>\n",
       "      <td>cutout_back_top_6.jpg</td>\n",
       "      <td>patterned_blouse_106.jpg</td>\n",
       "      <td>patterned_blouse_65.jpg</td>\n",
       "      <td>sweater_26.jpg</td>\n",
       "      <td>patterned_blouse_36.jpg</td>\n",
       "      <td>cutout_back_top_29.jpg</td>\n",
       "      <td>patterned_blouse_74.jpg</td>\n",
       "      <td>patterned_blouse_18.jpg</td>\n",
       "      <td>joggers_7.jpg</td>\n",
       "      <td>sweater_12.jpg</td>\n",
       "    </tr>\n",
       "    <tr>\n",
       "      <th>1</th>\n",
       "      <td>patterned_blouse_2.jpg</td>\n",
       "      <td>patterned_blouse_85.jpg</td>\n",
       "      <td>hoodie_0.jpg</td>\n",
       "      <td>hoodie_5.jpg</td>\n",
       "      <td>hoodie_16.jpg</td>\n",
       "      <td>hoodie_9.jpg</td>\n",
       "      <td>patterned_blouse_17.jpg</td>\n",
       "      <td>hoodie_38.jpg</td>\n",
       "      <td>hoodie_18.jpg</td>\n",
       "      <td>hoodie_27.jpg</td>\n",
       "      <td>hoodie_21.jpg</td>\n",
       "    </tr>\n",
       "    <tr>\n",
       "      <th>2</th>\n",
       "      <td>patterned_blouse_5.jpg</td>\n",
       "      <td>patterned_blouse_79.jpg</td>\n",
       "      <td>patterned_blouse_68.jpg</td>\n",
       "      <td>patterned_blouse_87.jpg</td>\n",
       "      <td>patterned_blouse_97.jpg</td>\n",
       "      <td>patterned_blouse_24.jpg</td>\n",
       "      <td>patterned_blouse_8.jpg</td>\n",
       "      <td>cutout_back_top_25.jpg</td>\n",
       "      <td>patterned_blouse_106.jpg</td>\n",
       "      <td>patterned_blouse_1.jpg</td>\n",
       "      <td>patterned_blouse_56.jpg</td>\n",
       "    </tr>\n",
       "    <tr>\n",
       "      <th>3</th>\n",
       "      <td>patterned_blouse_1.jpg</td>\n",
       "      <td>patterned_blouse_76.jpg</td>\n",
       "      <td>patterned_blouse_5.jpg</td>\n",
       "      <td>patterned_blouse_24.jpg</td>\n",
       "      <td>patterned_blouse_68.jpg</td>\n",
       "      <td>cutout_back_top_25.jpg</td>\n",
       "      <td>patterned_blouse_56.jpg</td>\n",
       "      <td>patterned_blouse_8.jpg</td>\n",
       "      <td>patterned_blouse_87.jpg</td>\n",
       "      <td>patterned_blouse_79.jpg</td>\n",
       "      <td>patterned_blouse_51.jpg</td>\n",
       "    </tr>\n",
       "    <tr>\n",
       "      <th>4</th>\n",
       "      <td>patterned_blouse_3.jpg</td>\n",
       "      <td>henley_dress_0.jpg</td>\n",
       "      <td>sweater_11.jpg</td>\n",
       "      <td>sweater_14.jpg</td>\n",
       "      <td>patterned_blouse_101.jpg</td>\n",
       "      <td>sweater_7.jpg</td>\n",
       "      <td>sweater_15.jpg</td>\n",
       "      <td>henley_dress_14.jpg</td>\n",
       "      <td>sweater_4.jpg</td>\n",
       "      <td>sweater_20.jpg</td>\n",
       "      <td>sweater_29.jpg</td>\n",
       "    </tr>\n",
       "  </tbody>\n",
       "</table>\n",
       "</div>"
      ],
      "text/plain": [
       "                  ref_img                sim_img_1                 sim_img_2  \\\n",
       "0  patterned_blouse_0.jpg    cutout_back_top_6.jpg  patterned_blouse_106.jpg   \n",
       "1  patterned_blouse_2.jpg  patterned_blouse_85.jpg              hoodie_0.jpg   \n",
       "2  patterned_blouse_5.jpg  patterned_blouse_79.jpg   patterned_blouse_68.jpg   \n",
       "3  patterned_blouse_1.jpg  patterned_blouse_76.jpg    patterned_blouse_5.jpg   \n",
       "4  patterned_blouse_3.jpg       henley_dress_0.jpg            sweater_11.jpg   \n",
       "\n",
       "                 sim_img_3                 sim_img_4                sim_img_5  \\\n",
       "0  patterned_blouse_65.jpg            sweater_26.jpg  patterned_blouse_36.jpg   \n",
       "1             hoodie_5.jpg             hoodie_16.jpg             hoodie_9.jpg   \n",
       "2  patterned_blouse_87.jpg   patterned_blouse_97.jpg  patterned_blouse_24.jpg   \n",
       "3  patterned_blouse_24.jpg   patterned_blouse_68.jpg   cutout_back_top_25.jpg   \n",
       "4           sweater_14.jpg  patterned_blouse_101.jpg            sweater_7.jpg   \n",
       "\n",
       "                 sim_img_6                sim_img_7                 sim_img_8  \\\n",
       "0   cutout_back_top_29.jpg  patterned_blouse_74.jpg   patterned_blouse_18.jpg   \n",
       "1  patterned_blouse_17.jpg            hoodie_38.jpg             hoodie_18.jpg   \n",
       "2   patterned_blouse_8.jpg   cutout_back_top_25.jpg  patterned_blouse_106.jpg   \n",
       "3  patterned_blouse_56.jpg   patterned_blouse_8.jpg   patterned_blouse_87.jpg   \n",
       "4           sweater_15.jpg      henley_dress_14.jpg             sweater_4.jpg   \n",
       "\n",
       "                 sim_img_9               sim_img_10  \n",
       "0            joggers_7.jpg           sweater_12.jpg  \n",
       "1            hoodie_27.jpg            hoodie_21.jpg  \n",
       "2   patterned_blouse_1.jpg  patterned_blouse_56.jpg  \n",
       "3  patterned_blouse_79.jpg  patterned_blouse_51.jpg  \n",
       "4           sweater_20.jpg           sweater_29.jpg  "
      ]
     },
     "execution_count": 60,
     "metadata": {},
     "output_type": "execute_result"
    }
   ],
   "source": [
    "import pandas as pd\n",
    "\n",
    "similarity_df = pd.read_csv('sim_index.csv')\n",
    "similarity_df.head()"
   ]
  },
  {
   "cell_type": "markdown",
   "id": "b47ed7b5",
   "metadata": {},
   "source": [
    "### Convert dataframe to JSON format"
   ]
  },
  {
   "cell_type": "code",
   "execution_count": 61,
   "id": "168c2cad",
   "metadata": {},
   "outputs": [],
   "source": [
    "similarity_df = similarity_df.to_dict('records')"
   ]
  },
  {
   "cell_type": "code",
   "execution_count": 62,
   "id": "ac599aa7",
   "metadata": {},
   "outputs": [
    {
     "data": {
      "text/plain": [
       "{'ref_img': 'patterned_blouse_2.jpg',\n",
       " 'sim_img_1': 'patterned_blouse_85.jpg',\n",
       " 'sim_img_2': 'hoodie_0.jpg',\n",
       " 'sim_img_3': 'hoodie_5.jpg',\n",
       " 'sim_img_4': 'hoodie_16.jpg',\n",
       " 'sim_img_5': 'hoodie_9.jpg',\n",
       " 'sim_img_6': 'patterned_blouse_17.jpg',\n",
       " 'sim_img_7': 'hoodie_38.jpg',\n",
       " 'sim_img_8': 'hoodie_18.jpg',\n",
       " 'sim_img_9': 'hoodie_27.jpg',\n",
       " 'sim_img_10': 'hoodie_21.jpg'}"
      ]
     },
     "execution_count": 62,
     "metadata": {},
     "output_type": "execute_result"
    }
   ],
   "source": [
    "similarity_df[1]"
   ]
  },
  {
   "cell_type": "markdown",
   "id": "97f8d25b",
   "metadata": {},
   "source": [
    "### Converting data into appropriate format that elasticsearch can understand"
   ]
  },
  {
   "cell_type": "code",
   "execution_count": 63,
   "id": "c5442aff",
   "metadata": {},
   "outputs": [],
   "source": [
    "def generator(df):\n",
    "    for i, line in enumerate(df):\n",
    "        yield {\n",
    "            '_index' : 'adm-assignment2',\n",
    "            '_id' : line.get(\"ref_img\", None),\n",
    "            '_source' : {\n",
    "                \"sim_img_1\": line.get(\"sim_img_1\",\"\"),\n",
    "                \"sim_img_2\": line.get(\"sim_img_2\",\"\"),\n",
    "                \"sim_img_3\": line.get(\"sim_img_3\",\"\"),\n",
    "                \"sim_img_4\": line.get(\"sim_img_4\",\"\"),\n",
    "                \"sim_img_5\": line.get(\"sim_img_5\",\"\"),\n",
    "                \"sim_img_6\": line.get(\"sim_img_6\",\"\"),\n",
    "                \"sim_img_7\": line.get(\"sim_img_7\",\"\"),\n",
    "                \"sim_img_8\": line.get(\"sim_img_8\",\"\"),\n",
    "                \"sim_img_9\": line.get(\"sim_img_9\",\"\"),\n",
    "                \"sim_img_10\": line.get(\"sim_img_10\",\"\")\n",
    "            }\n",
    "        }"
   ]
  },
  {
   "cell_type": "code",
   "execution_count": 64,
   "id": "156ffd6e",
   "metadata": {},
   "outputs": [
    {
     "data": {
      "text/plain": [
       "<generator object generator at 0x0000025E2530CC80>"
      ]
     },
     "execution_count": 64,
     "metadata": {},
     "output_type": "execute_result"
    }
   ],
   "source": [
    "mycustom = generator(similarity_df)\n",
    "mycustom"
   ]
  },
  {
   "cell_type": "markdown",
   "id": "6bcc7208",
   "metadata": {},
   "source": [
    "### Settings"
   ]
  },
  {
   "cell_type": "code",
   "execution_count": 65,
   "id": "fe2479d6",
   "metadata": {},
   "outputs": [],
   "source": [
    "Settings = {\n",
    "    \"settings\": {\n",
    "        \"number_of_shards\": 1,\n",
    "        \"number_of_replicas\": 0\n",
    "    },\n",
    "    \"mappings\": {\n",
    "        \"properties\": {\n",
    "            \"sim_img_1\": {\n",
    "                \"type\" : \"text\"\n",
    "            },\n",
    "            \"sim_img_2\": {\n",
    "                \"type\" : \"text\"\n",
    "            },\n",
    "            \"sim_img_3\": {\n",
    "                \"type\" : \"text\"\n",
    "            },\n",
    "            \"sim_img_4\": {\n",
    "                \"type\" : \"text\"\n",
    "            },\n",
    "            \"sim_img_5\": {\n",
    "                \"type\" : \"text\"\n",
    "            },\n",
    "            \"sim_img_6\": {\n",
    "                \"type\" : \"text\"\n",
    "            },\n",
    "            \"sim_img_7\": {\n",
    "                \"type\" : \"text\"\n",
    "            },\n",
    "            \"sim_img_8\": {\n",
    "                \"type\" : \"text\"\n",
    "            },\n",
    "            \"sim_img_9\": {\n",
    "                \"type\" : \"text\"\n",
    "            },\n",
    "            \"sim_img_10\": {\n",
    "                \"type\" : \"text\"\n",
    "            }\n",
    "        }\n",
    "    }\n",
    "}"
   ]
  },
  {
   "cell_type": "markdown",
   "id": "0c6fcf66",
   "metadata": {},
   "source": [
    "### Creating new index with my Elasticsearch instance"
   ]
  },
  {
   "cell_type": "code",
   "execution_count": 66,
   "id": "aca2068c",
   "metadata": {},
   "outputs": [
    {
     "name": "stderr",
     "output_type": "stream",
     "text": [
      "C:\\Users\\krish\\AppData\\Local\\Temp/ipykernel_22832/1387066208.py:2: DeprecationWarning: Passing transport options in the API method is deprecated. Use 'Elasticsearch.options()' instead.\n",
      "  my_ref_images = es.indices.create( index = 'adm-assignment2', ignore = [400, 404], body = Settings)\n",
      "C:\\Users\\krish\\AppData\\Local\\Temp/ipykernel_22832/1387066208.py:2: DeprecationWarning: The 'body' parameter is deprecated and will be removed in a future version. Instead use individual parameters.\n",
      "  my_ref_images = es.indices.create( index = 'adm-assignment2', ignore = [400, 404], body = Settings)\n"
     ]
    }
   ],
   "source": [
    "IndexName = ''\n",
    "my_ref_images = es.indices.create( index = 'adm-assignment2', ignore = [400, 404], body = Settings)"
   ]
  },
  {
   "cell_type": "code",
   "execution_count": null,
   "id": "f6f67cc6",
   "metadata": {},
   "outputs": [],
   "source": [
    "my_ref_images"
   ]
  },
  {
   "cell_type": "markdown",
   "id": "1b105d28",
   "metadata": {},
   "source": [
    "### Bulk upload datafame"
   ]
  },
  {
   "cell_type": "code",
   "execution_count": 68,
   "id": "37b2024c",
   "metadata": {},
   "outputs": [],
   "source": [
    "from elasticsearch import helpers"
   ]
  },
  {
   "cell_type": "code",
   "execution_count": 69,
   "id": "3ec15e68",
   "metadata": {},
   "outputs": [
    {
     "name": "stdout",
     "output_type": "stream",
     "text": [
      "Working...\n",
      "Response:  (275, [])\n"
     ]
    }
   ],
   "source": [
    "try: \n",
    "    res = helpers.bulk(es, generator(similarity_df))\n",
    "    print(\"Working...\")\n",
    "    print(\"Response: \", res)\n",
    "except Exception as e:\n",
    "    print(e)\n",
    "    pass"
   ]
  },
  {
   "cell_type": "markdown",
   "id": "35893fe5",
   "metadata": {},
   "source": [
    "### Searching data in the index"
   ]
  },
  {
   "cell_type": "code",
   "execution_count": 71,
   "id": "f3006f4c",
   "metadata": {},
   "outputs": [
    {
     "data": {
      "text/plain": [
       "[{'_index': 'adm-assignment2',\n",
       "  '_id': 'patterned_blouse_0.jpg',\n",
       "  '_score': 1.0,\n",
       "  '_source': {'sim_img_1': 'cutout_back_top_6.jpg',\n",
       "   'sim_img_2': 'patterned_blouse_106.jpg',\n",
       "   'sim_img_3': 'patterned_blouse_65.jpg',\n",
       "   'sim_img_4': 'sweater_26.jpg',\n",
       "   'sim_img_5': 'patterned_blouse_36.jpg',\n",
       "   'sim_img_6': 'cutout_back_top_29.jpg',\n",
       "   'sim_img_7': 'patterned_blouse_74.jpg',\n",
       "   'sim_img_8': 'patterned_blouse_18.jpg',\n",
       "   'sim_img_9': 'joggers_7.jpg',\n",
       "   'sim_img_10': 'sweater_12.jpg'}}]"
      ]
     },
     "execution_count": 71,
     "metadata": {},
     "output_type": "execute_result"
    }
   ],
   "source": [
    "result = es.search(\n",
    "    index = 'adm-assignment2',\n",
    "    query = {\n",
    "         \"ids\": {\n",
    "             \"values\": \"patterned_blouse_0.jpg\" \n",
    "         }\n",
    "    }\n",
    ")\n",
    "\n",
    "result['hits']['hits']"
   ]
  },
  {
   "cell_type": "code",
   "execution_count": 76,
   "id": "e5d74102",
   "metadata": {},
   "outputs": [
    {
     "data": {
      "text/plain": [
       "10"
      ]
     },
     "execution_count": 76,
     "metadata": {},
     "output_type": "execute_result"
    }
   ],
   "source": [
    "result['hits']['hits'][0]['_source']"
   ]
  },
  {
   "cell_type": "code",
   "execution_count": 79,
   "id": "6b3efcc5",
   "metadata": {},
   "outputs": [
    {
     "data": {
      "text/plain": [
       "'patterned_blouse_106.jpg'"
      ]
     },
     "execution_count": 79,
     "metadata": {},
     "output_type": "execute_result"
    }
   ],
   "source": [
    "list(result['hits']['hits'][0]['_source'].items())[1][1]"
   ]
  },
  {
   "cell_type": "code",
   "execution_count": null,
   "id": "0d2fcbab",
   "metadata": {},
   "outputs": [],
   "source": []
  }
 ],
 "metadata": {
  "kernelspec": {
   "display_name": "Python 3 (ipykernel)",
   "language": "python",
   "name": "python3"
  },
  "language_info": {
   "codemirror_mode": {
    "name": "ipython",
    "version": 3
   },
   "file_extension": ".py",
   "mimetype": "text/x-python",
   "name": "python",
   "nbconvert_exporter": "python",
   "pygments_lexer": "ipython3",
   "version": "3.8.8"
  }
 },
 "nbformat": 4,
 "nbformat_minor": 5
}
